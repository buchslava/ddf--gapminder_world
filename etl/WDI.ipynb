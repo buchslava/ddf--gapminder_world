{
 "cells": [
  {
   "cell_type": "markdown",
   "metadata": {},
   "source": [
    "# Find out WDI - GW (gapminder world) mapping\n",
    "\n",
    "So we have\n",
    "\n",
    "- the WDI dataset you made\n",
    "- the Gapminder World dataset you made\n",
    "\n",
    "Quite some of the indicators in GW come from an old version of WDI\n",
    "\n",
    "We want to update the GW indicators with the new WDI data\n",
    "\n",
    "What do we need to do?\n",
    "\n",
    "1) Create a file, which contains mapping from WDI id to GW id (e.g. EG.USE.PCAP.KG.OE -> energy_production_total)\n",
    "\n",
    "For each GW indicator, follow the indicator url to the google spreadsheet (see below how to download xls version). In that spreadsheet, go to the settings tab and get the WDI identifier from the source_link. OR in the about tab Link to complete reference. Only do this if it's a WDI link (e.g. http://data.worldbank.org/indicator/EG.USE.PCAP.KG.OE).\n",
    "\n",
    "I am not sure if all indicators spreadsheets have the same layout, so program defensively. \n",
    "\n",
    "Maybe it's good to extend ddf--concepts of GW with columns source_link for every indicator and wdi_id for wdi indicators, so you can quickly see if you're not missing anything. We might want to import more concept properties from the different tabs of the spreadsheets later on.\n",
    "\n",
    "2) Check with your new WDI DDF dataset if the WDI id's actually still exist. Add this information to the mapping file.\n",
    "\n",
    "E.g. This WDI indicator does not exist in the current WDI dataset\n",
    "https://docs.google.com/spreadsheets/u/1/d/13-1Egm0NN3aQUnontyJBo3rbqQLpiqqVL7vokagPil8/pub#\n",
    "\n",
    "This WDI indicator does still exist in the current WDI dataset\n",
    "https://docs.google.com/spreadsheets/u/1/d/1StdAfQCYzvpSYQMvLfXkZ1FMKqcRh6BbZ6B-bLARIz8/pub#\n",
    "\n",
    "p.s. you can get an xls version of google spreadsheet very easily, just add output=xls as a parameter of the source_link\n",
    "https://docs.google.com/spreadsheet/pub?key=0AkBd6lyS3EmpdFNZMXZwcjNPY2c3MWwxbWIwVFgyd0E&output=xls\n",
    "all xls's can also be found in the waffle-server-importers-exporters repo, named by the key parameter in the source_link (e.g. https://docs.google.com/spreadsheet/pub?key=0AkBd6lyS3EmpdFNZMXZwcjNPY2c3MWwxbWIwVFgyd0E = 0AkBd6lyS3EmpdFNZMXZwcjNPY2c3MWwxbWIwVFgyd0E.xls)\n",
    "https://github.com/Gapminder/waffle-server-importers-exporters/tree/world-legacy-with-data/data/tmp/excel\n",
    "\n",
    "3) We don't know yet how many WDI indicators don't exist anymore. So let's find that out first and we'll have to decide what to do with the non-existing ones (this is up to other people in Gapminder, we can propose solutions though of course ; ))\n",
    "\n",
    "4) Once we have done 3, we'll start setting up this merging script I told you about before."
   ]
  },
  {
   "cell_type": "code",
   "execution_count": 123,
   "metadata": {
    "collapsed": false
   },
   "outputs": [],
   "source": [
    "import pandas as pd\n",
    "import numpy as np\n",
    "import os\n",
    "import re"
   ]
  },
  {
   "cell_type": "code",
   "execution_count": 2,
   "metadata": {
    "collapsed": true
   },
   "outputs": [],
   "source": [
    "import requests"
   ]
  },
  {
   "cell_type": "code",
   "execution_count": 121,
   "metadata": {
    "collapsed": true
   },
   "outputs": [],
   "source": [
    "def to_concept_id(s, sub='[/ -\\.\\*\";]+', sep='_'):\n",
    "    '''convert a string to lowercase alphanumeric + underscore id for concepts'''\n",
    "    if s is np.nan:\n",
    "        return s\n",
    "\n",
    "    s1 = re.sub(sub, sep, s.strip())\n",
    "    s1 = s1.replace('\\n', '')\n",
    "\n",
    "    # remove the first/last underscore\n",
    "    if s1[-1] == sep:\n",
    "        s1 = s1[:-1]\n",
    "    if s1[0] == sep:\n",
    "        s1 = s1[1:]\n",
    "\n",
    "    return s1.lower()"
   ]
  },
  {
   "cell_type": "code",
   "execution_count": 3,
   "metadata": {
    "collapsed": true
   },
   "outputs": [],
   "source": [
    "wdi_path = '../../ddf--wdi/'\n",
    "gd_path = 'output/ddf/ddf--concepts.csv'"
   ]
  },
  {
   "cell_type": "code",
   "execution_count": 4,
   "metadata": {
    "collapsed": false
   },
   "outputs": [],
   "source": [
    "wdi = pd.read_csv(os.path.join(wdi_path, 'output', 'ddf--concepts--continuous.csv'))"
   ]
  },
  {
   "cell_type": "code",
   "execution_count": 189,
   "metadata": {
    "collapsed": true
   },
   "outputs": [],
   "source": [
    "gd = pd.read_csv(gd_path)"
   ]
  },
  {
   "cell_type": "code",
   "execution_count": 6,
   "metadata": {
    "collapsed": false
   },
   "outputs": [
    {
     "data": {
      "text/plain": [
       "Index(['concept', 'name', 'concept_type', 'description', 'indicator_url',\n",
       "       'unit', 'interpolation', 'drill_up', 'domain', 'scales'],\n",
       "      dtype='object')"
      ]
     },
     "execution_count": 6,
     "metadata": {},
     "output_type": "execute_result"
    }
   ],
   "source": [
    "gd.columns"
   ]
  },
  {
   "cell_type": "code",
   "execution_count": 7,
   "metadata": {
    "collapsed": false
   },
   "outputs": [
    {
     "data": {
      "text/plain": [
       "Index(['concept', 'concept_type', 'series_code', 'topic', 'indicator_name',\n",
       "       'short_definition', 'long_definition', 'unit_of_measure', 'periodicity',\n",
       "       'base_period', 'other_notes', 'aggregation_method',\n",
       "       'limitations_and_exceptions', 'notes_from_original_source',\n",
       "       'general_comments', 'source', 'statistical_concept_and_methodology',\n",
       "       'development_relevance', 'related_source_links', 'other_web_links',\n",
       "       'related_indicators', 'license_type'],\n",
       "      dtype='object')"
      ]
     },
     "execution_count": 7,
     "metadata": {},
     "output_type": "execute_result"
    }
   ],
   "source": [
    "wdi.columns"
   ]
  },
  {
   "cell_type": "code",
   "execution_count": 7,
   "metadata": {
    "collapsed": false
   },
   "outputs": [
    {
     "data": {
      "text/plain": [
       "'http://spreadsheets.google.com/pub?key=phAwcNAVuyj1gkNuUEXOGag'"
      ]
     },
     "execution_count": 7,
     "metadata": {},
     "output_type": "execute_result"
    }
   ],
   "source": [
    "gd.indicator_url.dropna().ix[40]"
   ]
  },
  {
   "cell_type": "code",
   "execution_count": 9,
   "metadata": {
    "collapsed": true
   },
   "outputs": [],
   "source": [
    "url = gd.indicator_url.dropna().ix[40] + '&output=xls'"
   ]
  },
  {
   "cell_type": "code",
   "execution_count": 10,
   "metadata": {
    "collapsed": true
   },
   "outputs": [],
   "source": [
    "r = requests.get(url)"
   ]
  },
  {
   "cell_type": "code",
   "execution_count": 6,
   "metadata": {
    "collapsed": true
   },
   "outputs": [],
   "source": [
    "from io import BytesIO"
   ]
  },
  {
   "cell_type": "code",
   "execution_count": 15,
   "metadata": {
    "collapsed": false
   },
   "outputs": [],
   "source": [
    "sheet = pd.read_excel(BytesIO(r.content), sheetname='Settings')"
   ]
  },
  {
   "cell_type": "code",
   "execution_count": 16,
   "metadata": {
    "collapsed": false
   },
   "outputs": [
    {
     "data": {
      "text/html": [
       "<div>\n",
       "<table border=\"1\" class=\"dataframe\">\n",
       "  <thead>\n",
       "    <tr style=\"text-align: right;\">\n",
       "      <th></th>\n",
       "      <th>Indicator-settings in the graph</th>\n",
       "      <th>Unnamed: 1</th>\n",
       "      <th>Unnamed: 2</th>\n",
       "      <th>Unnamed: 3</th>\n",
       "    </tr>\n",
       "  </thead>\n",
       "  <tbody>\n",
       "    <tr>\n",
       "      <th>0</th>\n",
       "      <td>NaN</td>\n",
       "      <td>NaN</td>\n",
       "      <td>NaN</td>\n",
       "      <td>NaN</td>\n",
       "    </tr>\n",
       "    <tr>\n",
       "      <th>1</th>\n",
       "      <td>Source name</td>\n",
       "      <td>CDIAC (Carbon Dioxide Information Analysis Cen...</td>\n",
       "      <td>NaN</td>\n",
       "      <td>Required! Text that will be shown next to the ...</td>\n",
       "    </tr>\n",
       "    <tr>\n",
       "      <th>2</th>\n",
       "      <td>Source link</td>\n",
       "      <td>http://cdiac.ornl.gov/trends/emis/meth_reg.html</td>\n",
       "      <td>NaN</td>\n",
       "      <td>Link for target, when clicking source name in ...</td>\n",
       "    </tr>\n",
       "    <tr>\n",
       "      <th>3</th>\n",
       "      <td>Scale type</td>\n",
       "      <td>lin</td>\n",
       "      <td>NaN</td>\n",
       "      <td>Required! Type \"lin\" for linear scale or \"log\"...</td>\n",
       "    </tr>\n",
       "  </tbody>\n",
       "</table>\n",
       "</div>"
      ],
      "text/plain": [
       "  Indicator-settings in the graph  \\\n",
       "0                             NaN   \n",
       "1                     Source name   \n",
       "2                     Source link   \n",
       "3                      Scale type   \n",
       "\n",
       "                                          Unnamed: 1  Unnamed: 2  \\\n",
       "0                                                NaN         NaN   \n",
       "1  CDIAC (Carbon Dioxide Information Analysis Cen...         NaN   \n",
       "2    http://cdiac.ornl.gov/trends/emis/meth_reg.html         NaN   \n",
       "3                                                lin         NaN   \n",
       "\n",
       "                                          Unnamed: 3  \n",
       "0                                                NaN  \n",
       "1  Required! Text that will be shown next to the ...  \n",
       "2  Link for target, when clicking source name in ...  \n",
       "3  Required! Type \"lin\" for linear scale or \"log\"...  "
      ]
     },
     "execution_count": 16,
     "metadata": {},
     "output_type": "execute_result"
    }
   ],
   "source": [
    "sheet"
   ]
  },
  {
   "cell_type": "code",
   "execution_count": 18,
   "metadata": {
    "collapsed": false
   },
   "outputs": [
    {
     "data": {
      "text/plain": [
       "'http://cdiac.ornl.gov/trends/emis/meth_reg.html'"
      ]
     },
     "execution_count": 18,
     "metadata": {},
     "output_type": "execute_result"
    }
   ],
   "source": [
    "sheet = sheet.set_index('Indicator-settings in the graph')\n",
    "sheet.ix['Source link'].iloc[0]"
   ]
  },
  {
   "cell_type": "code",
   "execution_count": 7,
   "metadata": {
    "collapsed": true
   },
   "outputs": [],
   "source": [
    "from tomorrow import threads"
   ]
  },
  {
   "cell_type": "code",
   "execution_count": 207,
   "metadata": {
    "collapsed": false
   },
   "outputs": [],
   "source": [
    "# @threads(3, timeout=100)\n",
    "def get_indicator_url(sheet_url):\n",
    "    if sheet_url is np.nan:\n",
    "        return np.nan\n",
    "    if 'gapminder.org' in sheet_url:\n",
    "        return np.nan\n",
    "    sheet_url = sheet_url.replace('%0A', '')\n",
    "    r = requests.get(sheet_url+'&output=xls')\n",
    "    return r\n",
    "\n",
    "\n",
    "def get_sheet(r):\n",
    "    if r is np.nan:\n",
    "        return r\n",
    "    \n",
    "    try:\n",
    "        sheet = pd.read_excel(BytesIO(r.content), sheetname='Settings')\n",
    "        if 'Indicator-settings in the graph' in sheet.columns:\n",
    "            sheet = sheet.set_index('Indicator-settings in the graph')\n",
    "            return sheet.ix['Source link'].iloc[0]\n",
    "        elif 'Not in use' in sheet.columns:\n",
    "            sheet = sheet.set_index('Not in use')\n",
    "            return sheet.ix['Link next to axis'].iloc[0]\n",
    "        elif 'This tab contains settings for the software' in sheet.columns:\n",
    "            sheet = sheet.set_index('This tab contains settings for the software')\n",
    "            return sheet.ix['Axis link (where you come when clicking on name above)'].iloc[0]\n",
    "        else:\n",
    "            print('format not supported:', r.url)\n",
    "            print('columns:', sheet.columns)\n",
    "            return r.url\n",
    "    except Exception as e:\n",
    "        print(r.url)\n",
    "        print(e)\n",
    "        return r.url"
   ]
  },
  {
   "cell_type": "code",
   "execution_count": 208,
   "metadata": {
    "collapsed": false,
    "scrolled": true
   },
   "outputs": [
    {
     "name": "stdout",
     "output_type": "stream",
     "text": [
      "error getting xls: http://spreadsheets.google.com/pub?key=tQR7RhlZdPjBkVCDPPF4zUg\n",
      "https://docs.google.com/spreadsheet/pub?key=0ArfEDsV3bBwCdEV1RkJqTEItQnJYVXJlZzVuc3Y3Mmc%0A%0A&output=xls\n",
      "Unsupported format, or corrupt file: Expected BOF record; found b'<!DOCTYP'\n"
     ]
    }
   ],
   "source": [
    "res = []\n",
    "for i, row in gd[['concept', 'indicator_url']].iterrows():\n",
    "    concept = row['concept']\n",
    "    url = row['indicator_url']\n",
    "    try:\n",
    "        u = get_indicator_url(url)\n",
    "    except Exception as e:\n",
    "        print(e)\n",
    "        print('error getting xls: ' + url)\n",
    "        res.append((concept, url))\n",
    "    res.append((concept, u))\n",
    "\n",
    "res = dict(res)\n",
    "for k, v in res.items():\n",
    "    res[k] = get_sheet(res[k])"
   ]
  },
  {
   "cell_type": "code",
   "execution_count": 209,
   "metadata": {
    "collapsed": false
   },
   "outputs": [],
   "source": [
    "res_df = pd.DataFrame([res.keys(), res.values()])"
   ]
  },
  {
   "cell_type": "code",
   "execution_count": 210,
   "metadata": {
    "collapsed": false
   },
   "outputs": [],
   "source": [
    "res_df = res_df.T"
   ]
  },
  {
   "cell_type": "code",
   "execution_count": 211,
   "metadata": {
    "collapsed": false
   },
   "outputs": [
    {
     "data": {
      "text/plain": [
       "'http://pwt.econ.upenn.edu/php_site/pwt71/pwt71_form.php'"
      ]
     },
     "execution_count": 211,
     "metadata": {},
     "output_type": "execute_result"
    }
   ],
   "source": [
    "res_df.ix[561][1]"
   ]
  },
  {
   "cell_type": "code",
   "execution_count": 212,
   "metadata": {
    "collapsed": false
   },
   "outputs": [],
   "source": [
    "ttt = res_df[res_df[1].str.contains('output=xls').fillna(False)]"
   ]
  },
  {
   "cell_type": "markdown",
   "metadata": {},
   "source": [
    "*Note: some files says 'Not in use' in the settings tab.*\n",
    "\n",
    "https://docs.google.com/spreadsheets/d/1fCnUUj9nVbxv5dZJIMiUIhschS59DcYkM3Km1yhRuEo/edit#gid=3\n",
    "\n"
   ]
  },
  {
   "cell_type": "code",
   "execution_count": 213,
   "metadata": {
    "collapsed": false,
    "scrolled": false
   },
   "outputs": [
    {
     "name": "stdout",
     "output_type": "stream",
     "text": [
      "https://docs.google.com/spreadsheet/pub?key=0ArfEDsV3bBwCdEV1RkJqTEItQnJYVXJlZzVuc3Y3Mmc%0A%0A&output=xls\n"
     ]
    }
   ],
   "source": [
    "for i, u in ttt[1].items():\n",
    "    print(u)\n",
    "#     r = requests.get(u)\n",
    "#     try:\n",
    "#         xls = pd.read_excel(BytesIO(r.content), sheetname='Settings')\n",
    "#         print(xls.head(2).iloc[:, :2])\n",
    "#     except Exception as e:\n",
    "#         print('Error', e)\n",
    "        "
   ]
  },
  {
   "cell_type": "code",
   "execution_count": 215,
   "metadata": {
    "collapsed": false
   },
   "outputs": [
    {
     "data": {
      "text/html": [
       "<div>\n",
       "<table border=\"1\" class=\"dataframe\">\n",
       "  <thead>\n",
       "    <tr style=\"text-align: right;\">\n",
       "      <th></th>\n",
       "      <th>0</th>\n",
       "      <th>1</th>\n",
       "    </tr>\n",
       "  </thead>\n",
       "  <tbody>\n",
       "    <tr>\n",
       "      <th>12</th>\n",
       "      <td>residential_energy_use_percent</td>\n",
       "      <td>https://docs.google.com/spreadsheet/pub?key=0A...</td>\n",
       "    </tr>\n",
       "  </tbody>\n",
       "</table>\n",
       "</div>"
      ],
      "text/plain": [
       "                                 0  \\\n",
       "12  residential_energy_use_percent   \n",
       "\n",
       "                                                    1  \n",
       "12  https://docs.google.com/spreadsheet/pub?key=0A...  "
      ]
     },
     "execution_count": 215,
     "metadata": {},
     "output_type": "execute_result"
    }
   ],
   "source": [
    "ttt"
   ]
  },
  {
   "cell_type": "code",
   "execution_count": 90,
   "metadata": {
    "collapsed": false,
    "scrolled": true
   },
   "outputs": [
    {
     "data": {
      "text/html": [
       "<div>\n",
       "<table border=\"1\" class=\"dataframe\">\n",
       "  <thead>\n",
       "    <tr style=\"text-align: right;\">\n",
       "      <th></th>\n",
       "      <th>0</th>\n",
       "      <th>1</th>\n",
       "    </tr>\n",
       "  </thead>\n",
       "  <tbody>\n",
       "    <tr>\n",
       "      <th>16</th>\n",
       "      <td>primary_school_completion_percent_of_boys</td>\n",
       "      <td>http://data.worldbank.org/indicator/SE.PRM.CMP...</td>\n",
       "    </tr>\n",
       "    <tr>\n",
       "      <th>17</th>\n",
       "      <td>gnipercapita_ppp_current_international</td>\n",
       "      <td>http://data.worldbank.org/indicator/NY.GNP.PCA...</td>\n",
       "    </tr>\n",
       "    <tr>\n",
       "      <th>18</th>\n",
       "      <td>co2_intensity_of_economic_output_kg_co2_per_20...</td>\n",
       "      <td>http://data.worldbank.org/indicator/EN.ATM.CO2...</td>\n",
       "    </tr>\n",
       "    <tr>\n",
       "      <th>29</th>\n",
       "      <td>investments_percent_of_gdp</td>\n",
       "      <td>http://data.worldbank.org/indicator/NE.GDI.TOT...</td>\n",
       "    </tr>\n",
       "    <tr>\n",
       "      <th>40</th>\n",
       "      <td>population_growth_annual_percent</td>\n",
       "      <td>http://data.worldbank.org/indicator/SP.POP.GROW</td>\n",
       "    </tr>\n",
       "    <tr>\n",
       "      <th>53</th>\n",
       "      <td>children_out_of_school_primary_male</td>\n",
       "      <td>http://data.worldbank.org/indicator/SE.PRM.UNE...</td>\n",
       "    </tr>\n",
       "    <tr>\n",
       "      <th>66</th>\n",
       "      <td>improved_sanitation_overall_access_percent</td>\n",
       "      <td>http://data.worldbank.org/indicator/SH.STA.ACSN</td>\n",
       "    </tr>\n",
       "    <tr>\n",
       "      <th>70</th>\n",
       "      <td>arms_imports_us_inflation_adjusted</td>\n",
       "      <td>http://data.worldbank.org/indicator/MS.MIL.MPR...</td>\n",
       "    </tr>\n",
       "    <tr>\n",
       "      <th>74</th>\n",
       "      <td>expenditure_per_student_tertiary_percent_of_gd...</td>\n",
       "      <td>http://data.worldbank.org/indicator/SE.XPD.TER...</td>\n",
       "    </tr>\n",
       "    <tr>\n",
       "      <th>82</th>\n",
       "      <td>births_attended_by_skilled_health_staff_percen...</td>\n",
       "      <td>http://data.worldbank.org/indicator/SH.STA.BRT...</td>\n",
       "    </tr>\n",
       "    <tr>\n",
       "      <th>85</th>\n",
       "      <td>agricultural_land_percent_of_land_area</td>\n",
       "      <td>http://data.worldbank.org/indicator/AG.LND.AGR...</td>\n",
       "    </tr>\n",
       "    <tr>\n",
       "      <th>87</th>\n",
       "      <td>broadband_subscribers_per_100_people</td>\n",
       "      <td>http://data.worldbank.org/indicator/IT.NET.BBN...</td>\n",
       "    </tr>\n",
       "    <tr>\n",
       "      <th>92</th>\n",
       "      <td>merchandise_trade_percent_of_gdp</td>\n",
       "      <td>http://data.worldbank.org/indicator/TG.VAL.TOT...</td>\n",
       "    </tr>\n",
       "    <tr>\n",
       "      <th>103</th>\n",
       "      <td>foreign_direct_investment_net_outflows_percent...</td>\n",
       "      <td>http://data.worldbank.org/indicator/BM.KLT.DIN...</td>\n",
       "    </tr>\n",
       "    <tr>\n",
       "      <th>106</th>\n",
       "      <td>gnipercapita_constant_2000_us</td>\n",
       "      <td>http://data.worldbank.org/indicator/NY.GNP.PCA...</td>\n",
       "    </tr>\n",
       "    <tr>\n",
       "      <th>108</th>\n",
       "      <td>expenditure_per_student_primary_percent_of_gdp...</td>\n",
       "      <td>http://data.worldbank.org/indicator/SE.XPD.PRI...</td>\n",
       "    </tr>\n",
       "    <tr>\n",
       "      <th>120</th>\n",
       "      <td>trade_balance_percent_of_gdp</td>\n",
       "      <td>http://data.worldbank.org/indicator/NE.RSB.GNF...</td>\n",
       "    </tr>\n",
       "    <tr>\n",
       "      <th>129</th>\n",
       "      <td>services_percent_of_gdp</td>\n",
       "      <td>http://data.worldbank.org/indicator/NV.SRV.TET...</td>\n",
       "    </tr>\n",
       "    <tr>\n",
       "      <th>133</th>\n",
       "      <td>exports_percent_of_gdp</td>\n",
       "      <td>http://data.worldbank.org/indicator/NE.EXP.GNF...</td>\n",
       "    </tr>\n",
       "    <tr>\n",
       "      <th>137</th>\n",
       "      <td>primary_completion_rate_total_percent_of_relev...</td>\n",
       "      <td>http://data.worldbank.org/indicator/SE.PRM.CMP...</td>\n",
       "    </tr>\n",
       "    <tr>\n",
       "      <th>144</th>\n",
       "      <td>aid_received_total_us_inflation_adjusted</td>\n",
       "      <td>http://data.worldbank.org/indicator/DT.ODA.ODA...</td>\n",
       "    </tr>\n",
       "    <tr>\n",
       "      <th>148</th>\n",
       "      <td>high_technology_exports_percent_of_manufacture...</td>\n",
       "      <td>http://data.worldbank.org/indicator/TX.VAL.TEC...</td>\n",
       "    </tr>\n",
       "    <tr>\n",
       "      <th>155</th>\n",
       "      <td>hydro_power_generation_total</td>\n",
       "      <td>http://data.worldbank.org/indicator/EG.ELC.HYR...</td>\n",
       "    </tr>\n",
       "    <tr>\n",
       "      <th>173</th>\n",
       "      <td>energy_production_total</td>\n",
       "      <td>http://data.worldbank.org/indicator/EG.EGY.PRO...</td>\n",
       "    </tr>\n",
       "    <tr>\n",
       "      <th>176</th>\n",
       "      <td>aid_received_percent_of_gni</td>\n",
       "      <td>http://data.worldbank.org/indicator/DT.ODA.ODA...</td>\n",
       "    </tr>\n",
       "    <tr>\n",
       "      <th>184</th>\n",
       "      <td>surface_area_sq_km</td>\n",
       "      <td>http://data.worldbank.org/indicator/AG.SRF.TOT...</td>\n",
       "    </tr>\n",
       "    <tr>\n",
       "      <th>187</th>\n",
       "      <td>urban_population_percent_of_total</td>\n",
       "      <td>http://data.worldbank.org/indicator/SP.URB.TOT...</td>\n",
       "    </tr>\n",
       "    <tr>\n",
       "      <th>189</th>\n",
       "      <td>cars_trucks_and_buses_per_1000_persons</td>\n",
       "      <td>http://data.worldbank.org/indicator/IS.VEH.NVE...</td>\n",
       "    </tr>\n",
       "    <tr>\n",
       "      <th>202</th>\n",
       "      <td>ratio_of_girls_to_boys_in_primary_and_secondar...</td>\n",
       "      <td>http://data.worldbank.org/indicator/SE.ENR.PRS...</td>\n",
       "    </tr>\n",
       "    <tr>\n",
       "      <th>212</th>\n",
       "      <td>extreme_poverty_percent_people_below_125_a_day</td>\n",
       "      <td>http://data.worldbank.org/indicator/SI.POV.DDAY</td>\n",
       "    </tr>\n",
       "    <tr>\n",
       "      <th>...</th>\n",
       "      <td>...</td>\n",
       "      <td>...</td>\n",
       "    </tr>\n",
       "    <tr>\n",
       "      <th>356</th>\n",
       "      <td>total_gdp_us_inflation_adjusted</td>\n",
       "      <td>http://data.worldbank.org/indicator/NY.GDP.MKT...</td>\n",
       "    </tr>\n",
       "    <tr>\n",
       "      <th>357</th>\n",
       "      <td>cell_phones_per_100_people</td>\n",
       "      <td>http://data.worldbank.org/indicator/IT.CEL.SET...</td>\n",
       "    </tr>\n",
       "    <tr>\n",
       "      <th>365</th>\n",
       "      <td>total_gni_ppp_current_international</td>\n",
       "      <td>http://data.worldbank.org/indicator/NY.GNP.MKT...</td>\n",
       "    </tr>\n",
       "    <tr>\n",
       "      <th>372</th>\n",
       "      <td>hydro_power_generation_per_person</td>\n",
       "      <td>http://data.worldbank.org/indicator/EG.ELC.HYR...</td>\n",
       "    </tr>\n",
       "    <tr>\n",
       "      <th>382</th>\n",
       "      <td>children_out_of_school_primary</td>\n",
       "      <td>http://data.worldbank.org/indicator/SE.PRM.UNER</td>\n",
       "    </tr>\n",
       "    <tr>\n",
       "      <th>400</th>\n",
       "      <td>net_barter_terms_of_trade_2000_100</td>\n",
       "      <td>http://data.worldbank.org/indicator/TT.PRI.MRC...</td>\n",
       "    </tr>\n",
       "    <tr>\n",
       "      <th>404</th>\n",
       "      <td>aid_received_per_person_current_us</td>\n",
       "      <td>http://data.worldbank.org/indicator/DT.ODA.ODA...</td>\n",
       "    </tr>\n",
       "    <tr>\n",
       "      <th>405</th>\n",
       "      <td>nuclear_power_generation_per_person</td>\n",
       "      <td>http://data.worldbank.org/indicator/EG.ELC.NUC...</td>\n",
       "    </tr>\n",
       "    <tr>\n",
       "      <th>410</th>\n",
       "      <td>debt_to_foreigners_by_public_and_private_perce...</td>\n",
       "      <td>http://data.worldbank.org/indicator/DT.DOD.DEC...</td>\n",
       "    </tr>\n",
       "    <tr>\n",
       "      <th>426</th>\n",
       "      <td>nuclear_power_generation_total</td>\n",
       "      <td>http://data.worldbank.org/indicator/EG.ELC.NUC...</td>\n",
       "    </tr>\n",
       "    <tr>\n",
       "      <th>432</th>\n",
       "      <td>gnipercapita_atlasmethod_current_us</td>\n",
       "      <td>http://data.worldbank.org/indicator/NY.GNP.PCA...</td>\n",
       "    </tr>\n",
       "    <tr>\n",
       "      <th>434</th>\n",
       "      <td>agriculture_percent_of_gdp</td>\n",
       "      <td>http://data.worldbank.org/indicator/NV.AGR.TOT...</td>\n",
       "    </tr>\n",
       "    <tr>\n",
       "      <th>436</th>\n",
       "      <td>present_value_of_debt_percent_of_gni</td>\n",
       "      <td>http://data.worldbank.org/indicator/DT.DOD.PVL...</td>\n",
       "    </tr>\n",
       "    <tr>\n",
       "      <th>441</th>\n",
       "      <td>energy_production_per_person</td>\n",
       "      <td>http://data.worldbank.org/indicator/EG.EGY.PRO...</td>\n",
       "    </tr>\n",
       "    <tr>\n",
       "      <th>446</th>\n",
       "      <td>industry_percent_of_gdp</td>\n",
       "      <td>http://data.worldbank.org/indicator/NV.IND.TOT...</td>\n",
       "    </tr>\n",
       "    <tr>\n",
       "      <th>453</th>\n",
       "      <td>expenditure_per_student_secondary_percent_of_g...</td>\n",
       "      <td>http://data.worldbank.org/indicator/SE.XPD.SEC...</td>\n",
       "    </tr>\n",
       "    <tr>\n",
       "      <th>459</th>\n",
       "      <td>imports_percent_of_gdp</td>\n",
       "      <td>http://data.worldbank.org/indicator/NE.IMP.GNF...</td>\n",
       "    </tr>\n",
       "    <tr>\n",
       "      <th>462</th>\n",
       "      <td>external_debt_total_us_not_inflation_adjusted</td>\n",
       "      <td>http://data.worldbank.org/indicator/DT.DOD.DEC...</td>\n",
       "    </tr>\n",
       "    <tr>\n",
       "      <th>473</th>\n",
       "      <td>children_out_of_school_primary_female</td>\n",
       "      <td>http://data.worldbank.org/indicator/SE.PRM.UNE...</td>\n",
       "    </tr>\n",
       "    <tr>\n",
       "      <th>492</th>\n",
       "      <td>gdppercapita_growth_percent_per_year</td>\n",
       "      <td>http://data.worldbank.org/indicator/NY.GDP.PCA...</td>\n",
       "    </tr>\n",
       "    <tr>\n",
       "      <th>496</th>\n",
       "      <td>military_expenditure_percent_of_gdp</td>\n",
       "      <td>http://data.worldbank.org/indicator/MS.MIL.XPN...</td>\n",
       "    </tr>\n",
       "    <tr>\n",
       "      <th>500</th>\n",
       "      <td>tax_revenue_percent_of_gdp</td>\n",
       "      <td>http://data.worldbank.org/indicator/GC.TAX.TOT...</td>\n",
       "    </tr>\n",
       "    <tr>\n",
       "      <th>518</th>\n",
       "      <td>energy_use_total</td>\n",
       "      <td>http://data.worldbank.org/indicator/EG.USE.COM...</td>\n",
       "    </tr>\n",
       "    <tr>\n",
       "      <th>521</th>\n",
       "      <td>foreign_direct_investment_net_inflows_percent_...</td>\n",
       "      <td>http://data.worldbank.org/indicator/BX.KLT.DIN...</td>\n",
       "    </tr>\n",
       "    <tr>\n",
       "      <th>525</th>\n",
       "      <td>contraceptive_use_percent_of_women_ages_15_49</td>\n",
       "      <td>http://data.worldbank.org/indicator/SP.DYN.CON...</td>\n",
       "    </tr>\n",
       "    <tr>\n",
       "      <th>526</th>\n",
       "      <td>internet_users_total_number</td>\n",
       "      <td>http://data.worldbank.org/indicator/IT.NET.USER</td>\n",
       "    </tr>\n",
       "    <tr>\n",
       "      <th>531</th>\n",
       "      <td>population_in_urban_agglomerations_m_1_million...</td>\n",
       "      <td>http://data.worldbank.org/indicator/EN.URB.MCT...</td>\n",
       "    </tr>\n",
       "    <tr>\n",
       "      <th>545</th>\n",
       "      <td>debt_servicing_costs_percent_of_exports_and_ne...</td>\n",
       "      <td>http://data.worldbank.org/indicator/DT.TDS.DEC...</td>\n",
       "    </tr>\n",
       "    <tr>\n",
       "      <th>559</th>\n",
       "      <td>trade_balance_us_not_inflation_adjusted</td>\n",
       "      <td>http://data.worldbank.org/indicator/NE.RSB.GNF...</td>\n",
       "    </tr>\n",
       "    <tr>\n",
       "      <th>569</th>\n",
       "      <td>broadband_subscribers</td>\n",
       "      <td>http://data.worldbank.org/indicator/IT.NET.BBND</td>\n",
       "    </tr>\n",
       "  </tbody>\n",
       "</table>\n",
       "<p>83 rows × 2 columns</p>\n",
       "</div>"
      ],
      "text/plain": [
       "                                                     0  \\\n",
       "16           primary_school_completion_percent_of_boys   \n",
       "17              gnipercapita_ppp_current_international   \n",
       "18   co2_intensity_of_economic_output_kg_co2_per_20...   \n",
       "29                          investments_percent_of_gdp   \n",
       "40                    population_growth_annual_percent   \n",
       "53                 children_out_of_school_primary_male   \n",
       "66          improved_sanitation_overall_access_percent   \n",
       "70                  arms_imports_us_inflation_adjusted   \n",
       "74   expenditure_per_student_tertiary_percent_of_gd...   \n",
       "82   births_attended_by_skilled_health_staff_percen...   \n",
       "85              agricultural_land_percent_of_land_area   \n",
       "87                broadband_subscribers_per_100_people   \n",
       "92                    merchandise_trade_percent_of_gdp   \n",
       "103  foreign_direct_investment_net_outflows_percent...   \n",
       "106                      gnipercapita_constant_2000_us   \n",
       "108  expenditure_per_student_primary_percent_of_gdp...   \n",
       "120                       trade_balance_percent_of_gdp   \n",
       "129                            services_percent_of_gdp   \n",
       "133                             exports_percent_of_gdp   \n",
       "137  primary_completion_rate_total_percent_of_relev...   \n",
       "144           aid_received_total_us_inflation_adjusted   \n",
       "148  high_technology_exports_percent_of_manufacture...   \n",
       "155                       hydro_power_generation_total   \n",
       "173                            energy_production_total   \n",
       "176                        aid_received_percent_of_gni   \n",
       "184                                 surface_area_sq_km   \n",
       "187                  urban_population_percent_of_total   \n",
       "189             cars_trucks_and_buses_per_1000_persons   \n",
       "202  ratio_of_girls_to_boys_in_primary_and_secondar...   \n",
       "212     extreme_poverty_percent_people_below_125_a_day   \n",
       "..                                                 ...   \n",
       "356                    total_gdp_us_inflation_adjusted   \n",
       "357                         cell_phones_per_100_people   \n",
       "365                total_gni_ppp_current_international   \n",
       "372                  hydro_power_generation_per_person   \n",
       "382                     children_out_of_school_primary   \n",
       "400                 net_barter_terms_of_trade_2000_100   \n",
       "404                 aid_received_per_person_current_us   \n",
       "405                nuclear_power_generation_per_person   \n",
       "410  debt_to_foreigners_by_public_and_private_perce...   \n",
       "426                     nuclear_power_generation_total   \n",
       "432                gnipercapita_atlasmethod_current_us   \n",
       "434                         agriculture_percent_of_gdp   \n",
       "436               present_value_of_debt_percent_of_gni   \n",
       "441                       energy_production_per_person   \n",
       "446                            industry_percent_of_gdp   \n",
       "453  expenditure_per_student_secondary_percent_of_g...   \n",
       "459                             imports_percent_of_gdp   \n",
       "462      external_debt_total_us_not_inflation_adjusted   \n",
       "473              children_out_of_school_primary_female   \n",
       "492               gdppercapita_growth_percent_per_year   \n",
       "496                military_expenditure_percent_of_gdp   \n",
       "500                         tax_revenue_percent_of_gdp   \n",
       "518                                   energy_use_total   \n",
       "521  foreign_direct_investment_net_inflows_percent_...   \n",
       "525      contraceptive_use_percent_of_women_ages_15_49   \n",
       "526                        internet_users_total_number   \n",
       "531  population_in_urban_agglomerations_m_1_million...   \n",
       "545  debt_servicing_costs_percent_of_exports_and_ne...   \n",
       "559            trade_balance_us_not_inflation_adjusted   \n",
       "569                              broadband_subscribers   \n",
       "\n",
       "                                                     1  \n",
       "16   http://data.worldbank.org/indicator/SE.PRM.CMP...  \n",
       "17   http://data.worldbank.org/indicator/NY.GNP.PCA...  \n",
       "18   http://data.worldbank.org/indicator/EN.ATM.CO2...  \n",
       "29   http://data.worldbank.org/indicator/NE.GDI.TOT...  \n",
       "40     http://data.worldbank.org/indicator/SP.POP.GROW  \n",
       "53   http://data.worldbank.org/indicator/SE.PRM.UNE...  \n",
       "66     http://data.worldbank.org/indicator/SH.STA.ACSN  \n",
       "70   http://data.worldbank.org/indicator/MS.MIL.MPR...  \n",
       "74   http://data.worldbank.org/indicator/SE.XPD.TER...  \n",
       "82   http://data.worldbank.org/indicator/SH.STA.BRT...  \n",
       "85   http://data.worldbank.org/indicator/AG.LND.AGR...  \n",
       "87   http://data.worldbank.org/indicator/IT.NET.BBN...  \n",
       "92   http://data.worldbank.org/indicator/TG.VAL.TOT...  \n",
       "103  http://data.worldbank.org/indicator/BM.KLT.DIN...  \n",
       "106  http://data.worldbank.org/indicator/NY.GNP.PCA...  \n",
       "108  http://data.worldbank.org/indicator/SE.XPD.PRI...  \n",
       "120  http://data.worldbank.org/indicator/NE.RSB.GNF...  \n",
       "129  http://data.worldbank.org/indicator/NV.SRV.TET...  \n",
       "133  http://data.worldbank.org/indicator/NE.EXP.GNF...  \n",
       "137  http://data.worldbank.org/indicator/SE.PRM.CMP...  \n",
       "144  http://data.worldbank.org/indicator/DT.ODA.ODA...  \n",
       "148  http://data.worldbank.org/indicator/TX.VAL.TEC...  \n",
       "155  http://data.worldbank.org/indicator/EG.ELC.HYR...  \n",
       "173  http://data.worldbank.org/indicator/EG.EGY.PRO...  \n",
       "176  http://data.worldbank.org/indicator/DT.ODA.ODA...  \n",
       "184  http://data.worldbank.org/indicator/AG.SRF.TOT...  \n",
       "187  http://data.worldbank.org/indicator/SP.URB.TOT...  \n",
       "189  http://data.worldbank.org/indicator/IS.VEH.NVE...  \n",
       "202  http://data.worldbank.org/indicator/SE.ENR.PRS...  \n",
       "212    http://data.worldbank.org/indicator/SI.POV.DDAY  \n",
       "..                                                 ...  \n",
       "356  http://data.worldbank.org/indicator/NY.GDP.MKT...  \n",
       "357  http://data.worldbank.org/indicator/IT.CEL.SET...  \n",
       "365  http://data.worldbank.org/indicator/NY.GNP.MKT...  \n",
       "372  http://data.worldbank.org/indicator/EG.ELC.HYR...  \n",
       "382    http://data.worldbank.org/indicator/SE.PRM.UNER  \n",
       "400  http://data.worldbank.org/indicator/TT.PRI.MRC...  \n",
       "404  http://data.worldbank.org/indicator/DT.ODA.ODA...  \n",
       "405  http://data.worldbank.org/indicator/EG.ELC.NUC...  \n",
       "410  http://data.worldbank.org/indicator/DT.DOD.DEC...  \n",
       "426  http://data.worldbank.org/indicator/EG.ELC.NUC...  \n",
       "432  http://data.worldbank.org/indicator/NY.GNP.PCA...  \n",
       "434  http://data.worldbank.org/indicator/NV.AGR.TOT...  \n",
       "436  http://data.worldbank.org/indicator/DT.DOD.PVL...  \n",
       "441  http://data.worldbank.org/indicator/EG.EGY.PRO...  \n",
       "446  http://data.worldbank.org/indicator/NV.IND.TOT...  \n",
       "453  http://data.worldbank.org/indicator/SE.XPD.SEC...  \n",
       "459  http://data.worldbank.org/indicator/NE.IMP.GNF...  \n",
       "462  http://data.worldbank.org/indicator/DT.DOD.DEC...  \n",
       "473  http://data.worldbank.org/indicator/SE.PRM.UNE...  \n",
       "492  http://data.worldbank.org/indicator/NY.GDP.PCA...  \n",
       "496  http://data.worldbank.org/indicator/MS.MIL.XPN...  \n",
       "500  http://data.worldbank.org/indicator/GC.TAX.TOT...  \n",
       "518  http://data.worldbank.org/indicator/EG.USE.COM...  \n",
       "521  http://data.worldbank.org/indicator/BX.KLT.DIN...  \n",
       "525  http://data.worldbank.org/indicator/SP.DYN.CON...  \n",
       "526    http://data.worldbank.org/indicator/IT.NET.USER  \n",
       "531  http://data.worldbank.org/indicator/EN.URB.MCT...  \n",
       "545  http://data.worldbank.org/indicator/DT.TDS.DEC...  \n",
       "559  http://data.worldbank.org/indicator/NE.RSB.GNF...  \n",
       "569    http://data.worldbank.org/indicator/IT.NET.BBND  \n",
       "\n",
       "[83 rows x 2 columns]"
      ]
     },
     "execution_count": 90,
     "metadata": {},
     "output_type": "execute_result"
    }
   ],
   "source": [
    "res_df[res_df[1].str.contains('worldbank.org/indicator/').fillna(False)]"
   ]
  },
  {
   "cell_type": "code",
   "execution_count": 216,
   "metadata": {
    "collapsed": true
   },
   "outputs": [],
   "source": [
    "res_df_bak = res_df.copy()"
   ]
  },
  {
   "cell_type": "code",
   "execution_count": 139,
   "metadata": {
    "collapsed": true
   },
   "outputs": [],
   "source": [
    "res_df = res_df_bak.copy()"
   ]
  },
  {
   "cell_type": "code",
   "execution_count": 217,
   "metadata": {
    "collapsed": false
   },
   "outputs": [],
   "source": [
    "res_df.columns = ['concept', 'settings_link']\n",
    "res_df = res_df.dropna(how='any')"
   ]
  },
  {
   "cell_type": "code",
   "execution_count": 163,
   "metadata": {
    "collapsed": true
   },
   "outputs": [],
   "source": [
    "def wdi_id_from_setting_link(s):\n",
    "    if 'data.worldbank.org/indicator/' in s: \n",
    "        if re.match('.*\\/([A-Z.]+)\\/?.*', s):\n",
    "            return re.match('.*\\/([A-Z.]+)\\/?.*', s).groups()[0]\n",
    "    \n",
    "    return np.nan"
   ]
  },
  {
   "cell_type": "code",
   "execution_count": 218,
   "metadata": {
    "collapsed": false
   },
   "outputs": [],
   "source": [
    "res_df['wdi_id'] = res_df['settings_link'].apply(wdi_id_from_setting_link)"
   ]
  },
  {
   "cell_type": "code",
   "execution_count": 219,
   "metadata": {
    "collapsed": false
   },
   "outputs": [],
   "source": [
    "res_df = res_df.set_index('concept')"
   ]
  },
  {
   "cell_type": "code",
   "execution_count": 220,
   "metadata": {
    "collapsed": true
   },
   "outputs": [],
   "source": [
    "gd = gd.set_index('concept')"
   ]
  },
  {
   "cell_type": "code",
   "execution_count": 221,
   "metadata": {
    "collapsed": true
   },
   "outputs": [],
   "source": [
    "gd['wdi_id'] = res_df['wdi_id']\n",
    "gd['settings_link'] = res_df['settings_link']"
   ]
  },
  {
   "cell_type": "code",
   "execution_count": 222,
   "metadata": {
    "collapsed": false
   },
   "outputs": [
    {
     "data": {
      "text/plain": [
       "86"
      ]
     },
     "execution_count": 222,
     "metadata": {},
     "output_type": "execute_result"
    }
   ],
   "source": [
    "len(gd['wdi_id'].dropna())"
   ]
  },
  {
   "cell_type": "code",
   "execution_count": 223,
   "metadata": {
    "collapsed": false
   },
   "outputs": [],
   "source": [
    "gd['wdi_id'] = gd['wdi_id'].apply(to_concept_id)"
   ]
  },
  {
   "cell_type": "code",
   "execution_count": 224,
   "metadata": {
    "collapsed": false
   },
   "outputs": [],
   "source": [
    "found = []\n",
    "not_found = []\n",
    "\n",
    "for i, v in gd['wdi_id'].dropna().items():\n",
    "    if v in wdi.concept.values:\n",
    "        found.append(v)\n",
    "    else:\n",
    "        not_found.append(v)"
   ]
  },
  {
   "cell_type": "code",
   "execution_count": 225,
   "metadata": {
    "collapsed": false,
    "scrolled": true
   },
   "outputs": [
    {
     "data": {
      "text/plain": [
       "['dt_oda_odat_kd',\n",
       " 'dt_oda_odat_pc_zs',\n",
       " 'dt_oda_odat_gi_zs',\n",
       " 'dt_dod_dect_gn_zs',\n",
       " 'fi_res_totl_dt_zs',\n",
       " 'ny_gdp_mktp_kd',\n",
       " 'ny_gdp_pcap_kd',\n",
       " 'ny_gdp_pcap_kd_zg',\n",
       " 'ny_gnp_mktp_pp_cd',\n",
       " 'ny_gnp_pcap_kd',\n",
       " 'ny_gnp_pcap_cd',\n",
       " 'ny_gnp_pcap_pp_cd',\n",
       " 'si_pov_gini',\n",
       " 'ny_gdp_defl_kd_zg',\n",
       " 'ne_gdi_totl_zs',\n",
       " 'gc_tax_totl_gd_zs',\n",
       " 'bx_klt_dinv_wd_gd_zs',\n",
       " 'bm_klt_dinv_gd_zs',\n",
       " 'si_pov_dday',\n",
       " 'nv_agr_totl_zs',\n",
       " 'nv_ind_totl_zs',\n",
       " 'nv_srv_tetc_zs',\n",
       " 'ne_exp_gnfs_zs',\n",
       " 'ne_imp_gnfs_zs',\n",
       " 'ms_mil_xprt_kd',\n",
       " 'ms_mil_mprt_kd',\n",
       " 'tx_val_tech_mf_zs',\n",
       " 'tg_val_totl_gd_zs',\n",
       " 'ne_rsb_gnfs_cd',\n",
       " 'ne_rsb_gnfs_zs',\n",
       " 'cm_mkt_lcap_gd_zs',\n",
       " 'ms_mil_xpnd_gd_zs',\n",
       " 'se_enr_prsc_fm_zs',\n",
       " 'se_prm_uner',\n",
       " 'se_prm_uner_fe',\n",
       " 'se_prm_uner_ma',\n",
       " 'se_prm_cmpt_zs',\n",
       " 'se_prm_cmpt_ma_zs',\n",
       " 'se_prm_cmpt_fe_zs',\n",
       " 'se_xpd_prim_pc_zs',\n",
       " 'se_xpd_seco_pc_zs',\n",
       " 'se_xpd_tert_pc_zs',\n",
       " 'eg_use_pcap_kg_oe',\n",
       " 'eg_use_elec_kh_pc',\n",
       " 'eg_use_elec_kh_pc',\n",
       " 'ag_lnd_agri_zs',\n",
       " 'sh_med_phys_zs',\n",
       " 'sh_sta_brtc_zs',\n",
       " 'sp_dyn_conu_zs',\n",
       " 'sh_sta_maln_zs',\n",
       " 'it_net_bbnd',\n",
       " 'it_cel_sets',\n",
       " 'sh_sta_acsn',\n",
       " 'sh_sta_acsn_ur',\n",
       " 'sh_sta_acsn_ru',\n",
       " 'sp_pop_grow',\n",
       " 'en_urb_mcty_tl_zs',\n",
       " 'sp_urb_totl',\n",
       " 'sp_urb_totl_in_zs',\n",
       " 'sp_urb_grow',\n",
       " 'dt_tds_dect_ex_zs',\n",
       " 'dt_dod_dect_cd',\n",
       " 'dt_dod_pvlx_gn_zs',\n",
       " 'tx_val_mrch_xd_wd',\n",
       " 'tm_val_mrch_xd_wd',\n",
       " 'tt_pri_mrch_xd_wd',\n",
       " 'ny_gdp_pcap_pp_kd',\n",
       " 'ny_gdp_pcap_kd_zg']"
      ]
     },
     "execution_count": 225,
     "metadata": {},
     "output_type": "execute_result"
    }
   ],
   "source": [
    "found"
   ]
  },
  {
   "cell_type": "code",
   "execution_count": 226,
   "metadata": {
    "collapsed": false
   },
   "outputs": [
    {
     "data": {
      "text/plain": [
       "['si_pov',\n",
       " 'se_adt',\n",
       " 'eg_use_comm_kt_oe',\n",
       " 'eg_egy_prod_kt_oe',\n",
       " 'eg_egy_prod_kt_oe',\n",
       " 'eg_elc_hyro_kh',\n",
       " 'eg_elc_hyro_kh',\n",
       " 'eg_elc_nucl_kh',\n",
       " 'eg_elc_nucl_kh',\n",
       " 'en_atm_co',\n",
       " 'ag_lnd_frst_k',\n",
       " 'ag_srf_totl_k',\n",
       " 'it_net_bbnd_p',\n",
       " 'it_cel_sets_p',\n",
       " 'it_net_user',\n",
       " 'it_net_user_p',\n",
       " 'is_rod_pave_zs',\n",
       " 'is_veh_nveh_p']"
      ]
     },
     "execution_count": 226,
     "metadata": {},
     "output_type": "execute_result"
    }
   ],
   "source": [
    "not_found"
   ]
  },
  {
   "cell_type": "code",
   "execution_count": null,
   "metadata": {
    "collapsed": true
   },
   "outputs": [],
   "source": []
  },
  {
   "cell_type": "code",
   "execution_count": 227,
   "metadata": {
    "collapsed": true
   },
   "outputs": [],
   "source": [
    "gd['found_in_wdi'] = gd['wdi_id'].dropna().apply(lambda x: True if x in found else False)"
   ]
  },
  {
   "cell_type": "code",
   "execution_count": null,
   "metadata": {
    "collapsed": true
   },
   "outputs": [],
   "source": []
  },
  {
   "cell_type": "code",
   "execution_count": 229,
   "metadata": {
    "collapsed": false
   },
   "outputs": [],
   "source": [
    "gd[['settings_link', 'wdi_id', 'found_in_wdi']].to_csv('output/tmp/gw_wdi.csv')"
   ]
  },
  {
   "cell_type": "code",
   "execution_count": 156,
   "metadata": {
    "collapsed": true
   },
   "outputs": [],
   "source": [
    "!open ."
   ]
  },
  {
   "cell_type": "code",
   "execution_count": 179,
   "metadata": {
    "collapsed": false
   },
   "outputs": [],
   "source": [
    "sli = gd[['settings_link', 'wdi_id', 'found_in_wdi']]"
   ]
  },
  {
   "cell_type": "code",
   "execution_count": 183,
   "metadata": {
    "collapsed": false
   },
   "outputs": [
    {
     "data": {
      "text/html": [
       "<div>\n",
       "<table border=\"1\" class=\"dataframe\">\n",
       "  <thead>\n",
       "    <tr style=\"text-align: right;\">\n",
       "      <th></th>\n",
       "      <th>settings_link</th>\n",
       "      <th>wdi_id</th>\n",
       "      <th>found_in_wdi</th>\n",
       "    </tr>\n",
       "    <tr>\n",
       "      <th>concept</th>\n",
       "      <th></th>\n",
       "      <th></th>\n",
       "      <th></th>\n",
       "    </tr>\n",
       "  </thead>\n",
       "  <tbody>\n",
       "    <tr>\n",
       "      <th>residential_energy_use_percent</th>\n",
       "      <td>https://docs.google.com/spreadsheet/pub?key=0A...</td>\n",
       "      <td>NaN</td>\n",
       "      <td>NaN</td>\n",
       "    </tr>\n",
       "  </tbody>\n",
       "</table>\n",
       "</div>"
      ],
      "text/plain": [
       "                                                                    settings_link  \\\n",
       "concept                                                                             \n",
       "residential_energy_use_percent  https://docs.google.com/spreadsheet/pub?key=0A...   \n",
       "\n",
       "                               wdi_id found_in_wdi  \n",
       "concept                                             \n",
       "residential_energy_use_percent    NaN          NaN  "
      ]
     },
     "execution_count": 183,
     "metadata": {},
     "output_type": "execute_result"
    }
   ],
   "source": [
    "sli[sli['settings_link'].str.contains('0ArfEDsV3bBwCdEV1RkJqTEItQnJYVXJlZzVuc3Y3Mmc').fillna(False)]"
   ]
  },
  {
   "cell_type": "code",
   "execution_count": 228,
   "metadata": {
    "collapsed": true
   },
   "outputs": [],
   "source": [
    "gd.loc['residential_energy_use_percent', 'settings_link'] = 'http://data.iea.org/IEASTORE/DEFAULT.ASP'"
   ]
  },
  {
   "cell_type": "code",
   "execution_count": 186,
   "metadata": {
    "collapsed": false
   },
   "outputs": [
    {
     "data": {
      "text/plain": [
       "name                                        Residential energy use\n",
       "concept_type                                               measure\n",
       "description      Percent of total emergy consumption that is us...\n",
       "indicator_url    https://docs.google.com/spreadsheet/pub?key=0A...\n",
       "unit                                                             %\n",
       "interpolation                                                  NaN\n",
       "drill_up                                                       NaN\n",
       "domain                                                         NaN\n",
       "scales                                           ['linear', 'log']\n",
       "wdi_id                                                         NaN\n",
       "settings_link             http://data.iea.org/IEASTORE/DEFAULT.ASP\n",
       "found_in_wdi                                                   NaN\n",
       "Name: residential_energy_use_percent, dtype: object"
      ]
     },
     "execution_count": 186,
     "metadata": {},
     "output_type": "execute_result"
    }
   ],
   "source": [
    "gd.loc['residential_energy_use_percent']"
   ]
  },
  {
   "cell_type": "code",
   "execution_count": 233,
   "metadata": {
    "collapsed": false
   },
   "outputs": [
    {
     "data": {
      "text/plain": [
       "'https://spreadsheets.google.com/pub?key=0ArfEDsV3bBwCdERQeFplM2VWczVrMTFfMXVrQkJpVXc'"
      ]
     },
     "execution_count": 233,
     "metadata": {},
     "output_type": "execute_result"
    }
   ],
   "source": [
    "gd.loc['new_births_total_number_estimated', 'indicator_url']"
   ]
  },
  {
   "cell_type": "code",
   "execution_count": 234,
   "metadata": {
    "collapsed": false
   },
   "outputs": [
    {
     "data": {
      "text/plain": [
       "'http://spreadsheets.google.com/pub?key=0ArfEDsV3bBwCdC1MYzAtY2xPQ2xOR1lMeGhYSWlpR0E'"
      ]
     },
     "execution_count": 234,
     "metadata": {},
     "output_type": "execute_result"
    }
   ],
   "source": [
    "gd.loc['mean_years_in_school_women_25_to_34_years', 'indicator_url']"
   ]
  },
  {
   "cell_type": "code",
   "execution_count": 237,
   "metadata": {
    "collapsed": false
   },
   "outputs": [
    {
     "data": {
      "text/html": [
       "<div>\n",
       "<table border=\"1\" class=\"dataframe\">\n",
       "  <thead>\n",
       "    <tr style=\"text-align: right;\">\n",
       "      <th></th>\n",
       "      <th>name</th>\n",
       "      <th>concept_type</th>\n",
       "      <th>description</th>\n",
       "      <th>indicator_url</th>\n",
       "      <th>unit</th>\n",
       "      <th>interpolation</th>\n",
       "      <th>drill_up</th>\n",
       "      <th>domain</th>\n",
       "      <th>scales</th>\n",
       "      <th>wdi_id</th>\n",
       "      <th>settings_link</th>\n",
       "      <th>found_in_wdi</th>\n",
       "    </tr>\n",
       "    <tr>\n",
       "      <th>concept</th>\n",
       "      <th></th>\n",
       "      <th></th>\n",
       "      <th></th>\n",
       "      <th></th>\n",
       "      <th></th>\n",
       "      <th></th>\n",
       "      <th></th>\n",
       "      <th></th>\n",
       "      <th></th>\n",
       "      <th></th>\n",
       "      <th></th>\n",
       "      <th></th>\n",
       "    </tr>\n",
       "  </thead>\n",
       "  <tbody>\n",
       "    <tr>\n",
       "      <th>aid_given_percent_of_gni</th>\n",
       "      <td>Aid given, % of GNI</td>\n",
       "      <td>measure</td>\n",
       "      <td>Percentage of the gross national income (GNI) ...</td>\n",
       "      <td>http://spreadsheets.google.com/pub?key=tQR7Rhl...</td>\n",
       "      <td>NaN</td>\n",
       "      <td>NaN</td>\n",
       "      <td>NaN</td>\n",
       "      <td>NaN</td>\n",
       "      <td>['linear', 'log']</td>\n",
       "      <td>NaN</td>\n",
       "      <td>http://www.oecd.org/dac/stats/qwids</td>\n",
       "      <td>NaN</td>\n",
       "    </tr>\n",
       "  </tbody>\n",
       "</table>\n",
       "</div>"
      ],
      "text/plain": [
       "                                         name concept_type  \\\n",
       "concept                                                      \n",
       "aid_given_percent_of_gni  Aid given, % of GNI      measure   \n",
       "\n",
       "                                                                description  \\\n",
       "concept                                                                       \n",
       "aid_given_percent_of_gni  Percentage of the gross national income (GNI) ...   \n",
       "\n",
       "                                                              indicator_url  \\\n",
       "concept                                                                       \n",
       "aid_given_percent_of_gni  http://spreadsheets.google.com/pub?key=tQR7Rhl...   \n",
       "\n",
       "                         unit  interpolation drill_up domain  \\\n",
       "concept                                                        \n",
       "aid_given_percent_of_gni  NaN            NaN      NaN    NaN   \n",
       "\n",
       "                                     scales wdi_id  \\\n",
       "concept                                              \n",
       "aid_given_percent_of_gni  ['linear', 'log']    NaN   \n",
       "\n",
       "                                                settings_link found_in_wdi  \n",
       "concept                                                                     \n",
       "aid_given_percent_of_gni  http://www.oecd.org/dac/stats/qwids          NaN  "
      ]
     },
     "execution_count": 237,
     "metadata": {},
     "output_type": "execute_result"
    }
   ],
   "source": [
    "gd[gd['indicator_url'] == 'http://spreadsheets.google.com/pub?key=tQR7RhlZdPjBkVCDPPF4zUg']"
   ]
  },
  {
   "cell_type": "code",
   "execution_count": 239,
   "metadata": {
    "collapsed": false,
    "scrolled": true
   },
   "outputs": [
    {
     "data": {
      "text/plain": [
       "0          ag_agr_trac_no\n",
       "1       ag_con_fert_pt_zs\n",
       "2          ag_con_fert_zs\n",
       "3          ag_lnd_agri_k2\n",
       "4          ag_lnd_agri_zs\n",
       "5          ag_lnd_arbl_ha\n",
       "6       ag_lnd_arbl_ha_pc\n",
       "7          ag_lnd_arbl_zs\n",
       "8          ag_lnd_crel_ha\n",
       "9          ag_lnd_crop_zs\n",
       "10         ag_lnd_el5m_zs\n",
       "11         ag_lnd_frst_k2\n",
       "12         ag_lnd_frst_zs\n",
       "13      ag_lnd_irig_ag_zs\n",
       "14         ag_lnd_prcp_mm\n",
       "15         ag_lnd_totl_k2\n",
       "16         ag_lnd_trac_zs\n",
       "17         ag_prd_crel_mt\n",
       "18         ag_prd_crop_xd\n",
       "19         ag_prd_food_xd\n",
       "20         ag_prd_lvsk_xd\n",
       "21         ag_srf_totl_k2\n",
       "22         ag_yld_crel_kg\n",
       "23      bg_gsr_nfsv_gd_zs\n",
       "24         bm_gsr_cmcp_zs\n",
       "25         bm_gsr_fcty_cd\n",
       "26         bm_gsr_gnfs_cd\n",
       "27         bm_gsr_insf_zs\n",
       "28         bm_gsr_mrch_cd\n",
       "29         bm_gsr_nfsv_cd\n",
       "              ...        \n",
       "1315    tx_val_fuel_zs_un\n",
       "1316    tx_val_ictg_zs_un\n",
       "1317    tx_val_insf_zs_wt\n",
       "1318    tx_val_manf_zs_un\n",
       "1319    tx_val_mmtl_zs_un\n",
       "1320    tx_val_mrch_al_zs\n",
       "1321    tx_val_mrch_cd_wt\n",
       "1322    tx_val_mrch_hi_zs\n",
       "1323    tx_val_mrch_or_zs\n",
       "1324    tx_val_mrch_r1_zs\n",
       "1325    tx_val_mrch_r2_zs\n",
       "1326    tx_val_mrch_r3_zs\n",
       "1327    tx_val_mrch_r4_zs\n",
       "1328    tx_val_mrch_r5_zs\n",
       "1329    tx_val_mrch_r6_zs\n",
       "1330    tx_val_mrch_rs_zs\n",
       "1331    tx_val_mrch_wl_cd\n",
       "1332    tx_val_mrch_wr_zs\n",
       "1333    tx_val_mrch_xd_wd\n",
       "1334    tx_val_othr_zs_wt\n",
       "1335    tx_val_serv_cd_wt\n",
       "1336       tx_val_tech_cd\n",
       "1337    tx_val_tech_mf_zs\n",
       "1338    tx_val_tran_zs_wt\n",
       "1339    tx_val_trvl_zs_wt\n",
       "1340          vc_btl_deth\n",
       "1341       vc_idp_totl_he\n",
       "1342       vc_idp_totl_le\n",
       "1343       vc_ihr_psrc_p5\n",
       "1344       vc_pkp_totl_un\n",
       "Name: concept, dtype: object"
      ]
     },
     "execution_count": 239,
     "metadata": {},
     "output_type": "execute_result"
    }
   ],
   "source": [
    "wdi['concept']"
   ]
  },
  {
   "cell_type": "code",
   "execution_count": null,
   "metadata": {
    "collapsed": true
   },
   "outputs": [],
   "source": []
  }
 ],
 "metadata": {
  "kernelspec": {
   "display_name": "Python 3",
   "language": "python",
   "name": "python3"
  },
  "language_info": {
   "codemirror_mode": {
    "name": "ipython",
    "version": 3
   },
   "file_extension": ".py",
   "mimetype": "text/x-python",
   "name": "python",
   "nbconvert_exporter": "python",
   "pygments_lexer": "ipython3",
   "version": "3.5.1"
  }
 },
 "nbformat": 4,
 "nbformat_minor": 0
}
